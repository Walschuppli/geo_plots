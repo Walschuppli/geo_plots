{
 "cells": [
  {
   "cell_type": "code",
   "execution_count": 1,
   "metadata": {},
   "outputs": [],
   "source": [
    "#Libs for fetching and analysing data\n",
    "\n",
    "#Libs\n",
    "import pandas as pa\n",
    "import seaborn as sns\n",
    "import geopandas as gpd\n",
    "import owslib\n",
    "import descartes\n",
    "import numpy as np\n",
    "\n",
    "#make point from excel\n",
    "from shapely import wkt\n",
    "from shapely.geometry import Point\n",
    "from geopandas.tools import sjoin\n",
    "\n",
    "import geopandas as gpd\n",
    "from requests import Request\n",
    "from owslib.wfs import WebFeatureService"
   ]
  },
  {
   "cell_type": "code",
   "execution_count": 2,
   "metadata": {},
   "outputs": [],
   "source": [
    "###START OF ANALYSIS OF GROUND WATER###\n",
    "median_gv = pa.read_csv('C://Users/crefsgaard/Desktop/Struensee/grundvandsstand2050median.txt',sep=' ',\\\n",
    "                        skiprows=6, names=range(910), decimal=',', index_col=False)\n",
    "\n",
    "toer_gv = pa.read_csv('C://Users/crefsgaard/Desktop/Struensee/grundvandsstand2050toer.txt',sep=' ',\\\n",
    "                        skiprows=6, names=range(910), decimal=',', index_col=False)\n",
    "\n",
    "vaad_gv = pa.read_csv('C://Users/crefsgaard/Desktop/Struensee/grundvandsstand2050vaad.txt',sep=' ',\\\n",
    "                        skiprows=6, names=range(910), decimal=',', index_col=False)"
   ]
  },
  {
   "cell_type": "code",
   "execution_count": 3,
   "metadata": {},
   "outputs": [],
   "source": [
    "median_gv = median_gv.fillna(-9998)\n",
    "toer_gv = toer_gv.fillna(-9998)\n",
    "vaad_gv = vaad_gv.fillna(-9998)"
   ]
  },
  {
   "cell_type": "code",
   "execution_count": 4,
   "metadata": {},
   "outputs": [
    {
     "data": {
      "text/html": [
       "<div>\n",
       "<style scoped>\n",
       "    .dataframe tbody tr th:only-of-type {\n",
       "        vertical-align: middle;\n",
       "    }\n",
       "\n",
       "    .dataframe tbody tr th {\n",
       "        vertical-align: top;\n",
       "    }\n",
       "\n",
       "    .dataframe thead th {\n",
       "        text-align: right;\n",
       "    }\n",
       "</style>\n",
       "<table border=\"1\" class=\"dataframe\">\n",
       "  <thead>\n",
       "    <tr style=\"text-align: right;\">\n",
       "      <th></th>\n",
       "      <th>0</th>\n",
       "      <th>1</th>\n",
       "      <th>2</th>\n",
       "      <th>3</th>\n",
       "      <th>4</th>\n",
       "      <th>5</th>\n",
       "      <th>6</th>\n",
       "      <th>7</th>\n",
       "      <th>8</th>\n",
       "      <th>9</th>\n",
       "      <th>...</th>\n",
       "      <th>900</th>\n",
       "      <th>901</th>\n",
       "      <th>902</th>\n",
       "      <th>903</th>\n",
       "      <th>904</th>\n",
       "      <th>905</th>\n",
       "      <th>906</th>\n",
       "      <th>907</th>\n",
       "      <th>908</th>\n",
       "      <th>909</th>\n",
       "    </tr>\n",
       "  </thead>\n",
       "  <tbody>\n",
       "    <tr>\n",
       "      <td>0</td>\n",
       "      <td>-9999</td>\n",
       "      <td>-9999</td>\n",
       "      <td>-9999</td>\n",
       "      <td>-9999</td>\n",
       "      <td>-9999</td>\n",
       "      <td>-9999.0</td>\n",
       "      <td>-9999.0</td>\n",
       "      <td>-9999.0</td>\n",
       "      <td>-9999.0</td>\n",
       "      <td>-9999.0</td>\n",
       "      <td>...</td>\n",
       "      <td>-9999.0</td>\n",
       "      <td>-9999.0</td>\n",
       "      <td>-9999.0</td>\n",
       "      <td>-9999.0</td>\n",
       "      <td>-9999.0</td>\n",
       "      <td>-9999.0</td>\n",
       "      <td>-9999.0</td>\n",
       "      <td>-9999.0</td>\n",
       "      <td>-9999</td>\n",
       "      <td>-9999</td>\n",
       "    </tr>\n",
       "    <tr>\n",
       "      <td>1</td>\n",
       "      <td>-9999</td>\n",
       "      <td>-9999</td>\n",
       "      <td>-9999</td>\n",
       "      <td>-9999</td>\n",
       "      <td>-9999</td>\n",
       "      <td>-9999.0</td>\n",
       "      <td>-9999.0</td>\n",
       "      <td>-9999.0</td>\n",
       "      <td>-9999.0</td>\n",
       "      <td>-9999.0</td>\n",
       "      <td>...</td>\n",
       "      <td>-9999.0</td>\n",
       "      <td>-9999.0</td>\n",
       "      <td>-9999.0</td>\n",
       "      <td>-9999.0</td>\n",
       "      <td>-9999.0</td>\n",
       "      <td>-9999.0</td>\n",
       "      <td>-9999.0</td>\n",
       "      <td>-9999.0</td>\n",
       "      <td>-9999</td>\n",
       "      <td>-9999</td>\n",
       "    </tr>\n",
       "    <tr>\n",
       "      <td>2</td>\n",
       "      <td>-9999</td>\n",
       "      <td>-9999</td>\n",
       "      <td>-9999</td>\n",
       "      <td>-9999</td>\n",
       "      <td>-9999</td>\n",
       "      <td>-9999.0</td>\n",
       "      <td>-9999.0</td>\n",
       "      <td>-9999.0</td>\n",
       "      <td>-9999.0</td>\n",
       "      <td>-9999.0</td>\n",
       "      <td>...</td>\n",
       "      <td>-9999.0</td>\n",
       "      <td>-9999.0</td>\n",
       "      <td>-9999.0</td>\n",
       "      <td>-9999.0</td>\n",
       "      <td>-9999.0</td>\n",
       "      <td>-9999.0</td>\n",
       "      <td>-9999.0</td>\n",
       "      <td>-9999.0</td>\n",
       "      <td>-9999</td>\n",
       "      <td>-9999</td>\n",
       "    </tr>\n",
       "    <tr>\n",
       "      <td>3</td>\n",
       "      <td>-9999</td>\n",
       "      <td>-9999</td>\n",
       "      <td>-9999</td>\n",
       "      <td>-9999</td>\n",
       "      <td>-9999</td>\n",
       "      <td>-9999.0</td>\n",
       "      <td>-9999.0</td>\n",
       "      <td>-9999.0</td>\n",
       "      <td>-9999.0</td>\n",
       "      <td>-9999.0</td>\n",
       "      <td>...</td>\n",
       "      <td>-9999.0</td>\n",
       "      <td>-9999.0</td>\n",
       "      <td>-9999.0</td>\n",
       "      <td>-9999.0</td>\n",
       "      <td>-9999.0</td>\n",
       "      <td>-9999.0</td>\n",
       "      <td>-9999.0</td>\n",
       "      <td>-9999.0</td>\n",
       "      <td>-9999</td>\n",
       "      <td>-9999</td>\n",
       "    </tr>\n",
       "    <tr>\n",
       "      <td>4</td>\n",
       "      <td>-9999</td>\n",
       "      <td>-9999</td>\n",
       "      <td>-9999</td>\n",
       "      <td>-9999</td>\n",
       "      <td>-9999</td>\n",
       "      <td>-9999.0</td>\n",
       "      <td>-9999.0</td>\n",
       "      <td>-9999.0</td>\n",
       "      <td>-9999.0</td>\n",
       "      <td>-9999.0</td>\n",
       "      <td>...</td>\n",
       "      <td>-9999.0</td>\n",
       "      <td>-9999.0</td>\n",
       "      <td>-9999.0</td>\n",
       "      <td>-9999.0</td>\n",
       "      <td>-9999.0</td>\n",
       "      <td>-9999.0</td>\n",
       "      <td>-9999.0</td>\n",
       "      <td>-9999.0</td>\n",
       "      <td>-9999</td>\n",
       "      <td>-9999</td>\n",
       "    </tr>\n",
       "  </tbody>\n",
       "</table>\n",
       "<p>5 rows × 910 columns</p>\n",
       "</div>"
      ],
      "text/plain": [
       "    0     1     2     3     4       5       6       7       8       9    ...  \\\n",
       "0 -9999 -9999 -9999 -9999 -9999 -9999.0 -9999.0 -9999.0 -9999.0 -9999.0  ...   \n",
       "1 -9999 -9999 -9999 -9999 -9999 -9999.0 -9999.0 -9999.0 -9999.0 -9999.0  ...   \n",
       "2 -9999 -9999 -9999 -9999 -9999 -9999.0 -9999.0 -9999.0 -9999.0 -9999.0  ...   \n",
       "3 -9999 -9999 -9999 -9999 -9999 -9999.0 -9999.0 -9999.0 -9999.0 -9999.0  ...   \n",
       "4 -9999 -9999 -9999 -9999 -9999 -9999.0 -9999.0 -9999.0 -9999.0 -9999.0  ...   \n",
       "\n",
       "      900     901     902     903     904     905     906     907   908   909  \n",
       "0 -9999.0 -9999.0 -9999.0 -9999.0 -9999.0 -9999.0 -9999.0 -9999.0 -9999 -9999  \n",
       "1 -9999.0 -9999.0 -9999.0 -9999.0 -9999.0 -9999.0 -9999.0 -9999.0 -9999 -9999  \n",
       "2 -9999.0 -9999.0 -9999.0 -9999.0 -9999.0 -9999.0 -9999.0 -9999.0 -9999 -9999  \n",
       "3 -9999.0 -9999.0 -9999.0 -9999.0 -9999.0 -9999.0 -9999.0 -9999.0 -9999 -9999  \n",
       "4 -9999.0 -9999.0 -9999.0 -9999.0 -9999.0 -9999.0 -9999.0 -9999.0 -9999 -9999  \n",
       "\n",
       "[5 rows x 910 columns]"
      ]
     },
     "execution_count": 4,
     "metadata": {},
     "output_type": "execute_result"
    }
   ],
   "source": [
    "median_gv.head()"
   ]
  },
  {
   "cell_type": "code",
   "execution_count": 5,
   "metadata": {},
   "outputs": [],
   "source": [
    "#constants\n",
    "ncols = 910\n",
    "nrows = 746\n",
    "xllcorner = 439000\n",
    "yllcorner = 6035000\n",
    "cellsize  = 500"
   ]
  },
  {
   "cell_type": "code",
   "execution_count": 6,
   "metadata": {},
   "outputs": [],
   "source": [
    "#creating x coordinates\n",
    "median_gv.columns = [xllcorner+n*cellsize for n in range(ncols)]\n",
    "toer_gv.columns = [xllcorner+n*cellsize for n in range(ncols)]\n",
    "vaad_gv.columns = [xllcorner+n*cellsize for n in range(ncols)]"
   ]
  },
  {
   "cell_type": "code",
   "execution_count": 7,
   "metadata": {},
   "outputs": [],
   "source": [
    "#creating y coordinates\n",
    "median_gv.index = [yllcorner+n*cellsize for n in range(nrows)][::-1]\n",
    "toer_gv.index = [yllcorner+n*cellsize for n in range(nrows)][::-1]\n",
    "vaad_gv.index = [yllcorner+n*cellsize for n in range(nrows)][::-1]"
   ]
  },
  {
   "cell_type": "code",
   "execution_count": 8,
   "metadata": {},
   "outputs": [
    {
     "data": {
      "text/plain": [
       "<matplotlib.axes._subplots.AxesSubplot at 0x286076922b0>"
      ]
     },
     "execution_count": 8,
     "metadata": {},
     "output_type": "execute_result"
    },
    {
     "data": {
      "image/png": "[encoded data removed]",
      "text/plain": [
       "<Figure size 432x288 with 2 Axes>"
      ]
     },
     "metadata": {
      "needs_background": "light"
     },
     "output_type": "display_data"
    }
   ],
   "source": [
    "sns.heatmap(median_gv.dropna(), robust=1, vmin=0, cmap='jet')"
   ]
  },
  {
   "cell_type": "code",
   "execution_count": 9,
   "metadata": {},
   "outputs": [
    {
     "data": {
      "text/plain": [
       "78598"
      ]
     },
     "execution_count": 9,
     "metadata": {},
     "output_type": "execute_result"
    }
   ],
   "source": [
    "bygninger = pa.read_csv(\"X://C_PUB/Trafik- og byggestyrelsen/2019 - Analyse af renoveringsbehov i den almene sektor/08 Dataindsamling og -behandling/1. Udtræk/1.4 ENS/Bygning_koordinater.csv\", sep=';')\n",
    "bygninger = bygninger[(bygninger['geox'].notnull()) | (bygninger['geoy'].notnull() )]\n",
    "\n",
    "len(bygninger)\n",
    "#bygninger.head()\n"
   ]
  },
  {
   "cell_type": "code",
   "execution_count": 27,
   "metadata": {},
   "outputs": [],
   "source": [
    "#Find bygningernes nærmeste koordinatsæt\n",
    "import tqdm\n",
    "bygninger['xmatrix'] = bygninger.geox.apply(lambda x : np.argmin(abs(median_gv.columns -x)))\n",
    "bygninger['ymatrix'] = bygninger.geoy.apply(lambda y : np.argmin(abs(median_gv.index -y)))\n",
    "all_values=[]\n",
    "for row in bygninger.loc[:,['xmatrix','ymatrix']].values:\n",
    "    all_values.append(median_gv.values[row[1],row[0]])\n",
    "bygninger['grundvand'] = all_values\n",
    "\n",
    "del bygninger['ymatrix']\n",
    "del bygninger['xmatrix']\n",
    "bygninger.to_excel('vand1.xlsx')"
   ]
  },
  {
   "cell_type": "code",
   "execution_count": 28,
   "metadata": {},
   "outputs": [
    {
     "name": "stderr",
     "output_type": "stream",
     "text": [
      "100%|███████████████████████████████████████████████████████████████████████████| 78598/78598 [04:16<00:00, 306.76it/s]\n"
     ]
    }
   ],
   "source": [
    "bygninger['xmatrix'] = bygninger.geox.apply(lambda x : np.argmin(abs(toer_gv.columns -x)))\n",
    "bygninger['ymatrix'] = bygninger.geoy.apply(lambda y : np.argmin(abs(toer_gv.index -y)))\n",
    "all_values=[]\n",
    "for row in tqdm.tqdm(bygninger.loc[:,['xmatrix','ymatrix']].values):\n",
    "    all_values.append(toer_gv.values[row[1],row[0]])\n",
    "bygninger['grundvand_toer'] = all_values\n",
    "\n",
    "del bygninger['ymatrix']\n",
    "del bygninger['xmatrix']\n",
    "bygninger.to_excel('vand2.xlsx')"
   ]
  },
  {
   "cell_type": "code",
   "execution_count": 29,
   "metadata": {},
   "outputs": [
    {
     "name": "stderr",
     "output_type": "stream",
     "text": [
      "100%|███████████████████████████████████████████████████████████████████████████| 78598/78598 [04:05<00:00, 320.65it/s]\n"
     ]
    }
   ],
   "source": [
    "bygninger['xmatrix'] = bygninger.geox.apply(lambda x : np.argmin(abs(vaad_gv.columns -x)))\n",
    "bygninger['ymatrix'] = bygninger.geoy.apply(lambda y : np.argmin(abs(vaad_gv.index -y)))\n",
    "all_values=[]\n",
    "for row in tqdm.tqdm(bygninger.loc[:,['xmatrix','ymatrix']].values):\n",
    "    all_values.append(vaad_gv.values[row[1],row[0]])\n",
    "bygninger['grundvand_vaad'] = all_values\n",
    "\n",
    "del bygninger['ymatrix']\n",
    "del bygninger['xmatrix']\n",
    "bygninger.to_excel('vand3.xlsx')"
   ]
  },
  {
   "cell_type": "code",
   "execution_count": null,
   "metadata": {},
   "outputs": [],
   "source": []
  },
  {
   "cell_type": "code",
   "execution_count": 10,
   "metadata": {},
   "outputs": [],
   "source": [
    "###START PÅ NEDBØRSDATA###\n",
    "\n",
    "# URL for WFS backend\n",
    "url = \"http://wfs2-miljoegis.mim.dk/dai/ows\"\n",
    "\n",
    "# Initialize\n",
    "wfs = WebFeatureService(url=url)\n",
    "\n",
    "# Get data from WFS\n",
    "# -----------------\n",
    "\n",
    "# Fetch the last available layer (as an example) --> 'vaestoruutu:vaki2017_5km'\n",
    "layer = list(wfs.contents)[-1]\n",
    "\n",
    "# Specify the parameters for fetching the data\n",
    "params = dict(service='WFS', version=\"1.0.0\", request='GetFeature',\n",
    "      typeName=layer, outputFormat='json')\n",
    "\n",
    "# Parse the URL with parameters\n",
    "q = Request('GET', url, params=params).prepare().url\n",
    "\n",
    "# Read data from URL\n",
    "data = gpd.read_file(q)"
   ]
  },
  {
   "cell_type": "code",
   "execution_count": 11,
   "metadata": {},
   "outputs": [
    {
     "data": {
      "text/html": [
       "<div>\n",
       "<style scoped>\n",
       "    .dataframe tbody tr th:only-of-type {\n",
       "        vertical-align: middle;\n",
       "    }\n",
       "\n",
       "    .dataframe tbody tr th {\n",
       "        vertical-align: top;\n",
       "    }\n",
       "\n",
       "    .dataframe thead th {\n",
       "        text-align: right;\n",
       "    }\n",
       "</style>\n",
       "<table border=\"1\" class=\"dataframe\">\n",
       "  <thead>\n",
       "    <tr style=\"text-align: right;\">\n",
       "      <th></th>\n",
       "      <th>ogc_fid</th>\n",
       "      <th>id</th>\n",
       "      <th>omr_navn</th>\n",
       "      <th>omr_nr</th>\n",
       "      <th>fejl</th>\n",
       "      <th>indenfosd</th>\n",
       "      <th>bekendt</th>\n",
       "      <th>anl_navn</th>\n",
       "      <th>anl_id</th>\n",
       "      <th>url_anlaeg</th>\n",
       "      <th>omr_kode</th>\n",
       "      <th>link</th>\n",
       "      <th>geometry</th>\n",
       "    </tr>\n",
       "  </thead>\n",
       "  <tbody>\n",
       "    <tr>\n",
       "      <td>0</td>\n",
       "      <td>1</td>\n",
       "      <td>17</td>\n",
       "      <td>Haderslev_Syd</td>\n",
       "      <td>320364</td>\n",
       "      <td>None</td>\n",
       "      <td>1</td>\n",
       "      <td>2014-1</td>\n",
       "      <td>I/S Sdr. Vilstrup Vandværk</td>\n",
       "      <td>116325</td>\n",
       "      <td>http://data.geus.dk/JupiterWWW/anlaeg.jsp?anla...</td>\n",
       "      <td>320364</td>\n",
       "      <td>http://jupiter.geus.dk/Rapportdb/Grundvandsrap...</td>\n",
       "      <td>(POLYGON ((533118.99658534 6115989.99792342, 5...</td>\n",
       "    </tr>\n",
       "    <tr>\n",
       "      <td>1</td>\n",
       "      <td>2</td>\n",
       "      <td>21</td>\n",
       "      <td>Haderslev_Syd</td>\n",
       "      <td>320364</td>\n",
       "      <td>None</td>\n",
       "      <td>1</td>\n",
       "      <td>2014-1</td>\n",
       "      <td>Kelstrup Overby Vandværk I/S</td>\n",
       "      <td>116318</td>\n",
       "      <td>http://data.geus.dk/JupiterWWW/anlaeg.jsp?anla...</td>\n",
       "      <td>320364</td>\n",
       "      <td>http://jupiter.geus.dk/Rapportdb/Grundvandsrap...</td>\n",
       "      <td>(POLYGON ((535928.18558342 6116449.18215799, 5...</td>\n",
       "    </tr>\n",
       "    <tr>\n",
       "      <td>2</td>\n",
       "      <td>5</td>\n",
       "      <td>0</td>\n",
       "      <td>Gærum</td>\n",
       "      <td>320388</td>\n",
       "      <td>None</td>\n",
       "      <td>1</td>\n",
       "      <td>2014-1</td>\n",
       "      <td>Stenhøj Vandværk</td>\n",
       "      <td>70680</td>\n",
       "      <td>http://data.geus.dk/JupiterWWW/anlaeg.jsp?anla...</td>\n",
       "      <td>320388</td>\n",
       "      <td>http://jupiter.geus.dk/Rapportdb/Grundvandsrap...</td>\n",
       "      <td>(POLYGON ((582344.60979557 6360821.37795918, 5...</td>\n",
       "    </tr>\n",
       "    <tr>\n",
       "      <td>3</td>\n",
       "      <td>6</td>\n",
       "      <td>0</td>\n",
       "      <td>Brønderslev</td>\n",
       "      <td>320395</td>\n",
       "      <td>None</td>\n",
       "      <td>1</td>\n",
       "      <td>2014-1</td>\n",
       "      <td>Jerslev Vandværk</td>\n",
       "      <td>72092</td>\n",
       "      <td>http://data.geus.dk/JupiterWWW/anlaeg.jsp?anla...</td>\n",
       "      <td>320395</td>\n",
       "      <td>http://jupiter.geus.dk/Rapportdb/Grundvandsrap...</td>\n",
       "      <td>(POLYGON ((565979.84052407 6351844.48030166, 5...</td>\n",
       "    </tr>\n",
       "    <tr>\n",
       "      <td>4</td>\n",
       "      <td>7</td>\n",
       "      <td>0</td>\n",
       "      <td>Brønderslev</td>\n",
       "      <td>320395</td>\n",
       "      <td>None</td>\n",
       "      <td>1</td>\n",
       "      <td>2014-1</td>\n",
       "      <td>Klæstrup Vandværk I/S</td>\n",
       "      <td>72096</td>\n",
       "      <td>http://data.geus.dk/JupiterWWW/anlaeg.jsp?anla...</td>\n",
       "      <td>320395</td>\n",
       "      <td>http://jupiter.geus.dk/Rapportdb/Grundvandsrap...</td>\n",
       "      <td>(POLYGON ((563311.9635688 6349444.93872141, 56...</td>\n",
       "    </tr>\n",
       "  </tbody>\n",
       "</table>\n",
       "</div>"
      ],
      "text/plain": [
       "   ogc_fid  id       omr_navn  omr_nr  fejl  indenfosd bekendt  \\\n",
       "0        1  17  Haderslev_Syd  320364  None          1  2014-1   \n",
       "1        2  21  Haderslev_Syd  320364  None          1  2014-1   \n",
       "2        5   0          Gærum  320388  None          1  2014-1   \n",
       "3        6   0    Brønderslev  320395  None          1  2014-1   \n",
       "4        7   0    Brønderslev  320395  None          1  2014-1   \n",
       "\n",
       "                       anl_navn  anl_id  \\\n",
       "0    I/S Sdr. Vilstrup Vandværk  116325   \n",
       "1  Kelstrup Overby Vandværk I/S  116318   \n",
       "2              Stenhøj Vandværk   70680   \n",
       "3              Jerslev Vandværk   72092   \n",
       "4         Klæstrup Vandværk I/S   72096   \n",
       "\n",
       "                                          url_anlaeg  omr_kode  \\\n",
       "0  http://data.geus.dk/JupiterWWW/anlaeg.jsp?anla...    320364   \n",
       "1  http://data.geus.dk/JupiterWWW/anlaeg.jsp?anla...    320364   \n",
       "2  http://data.geus.dk/JupiterWWW/anlaeg.jsp?anla...    320388   \n",
       "3  http://data.geus.dk/JupiterWWW/anlaeg.jsp?anla...    320395   \n",
       "4  http://data.geus.dk/JupiterWWW/anlaeg.jsp?anla...    320395   \n",
       "\n",
       "                                                link  \\\n",
       "0  http://jupiter.geus.dk/Rapportdb/Grundvandsrap...   \n",
       "1  http://jupiter.geus.dk/Rapportdb/Grundvandsrap...   \n",
       "2  http://jupiter.geus.dk/Rapportdb/Grundvandsrap...   \n",
       "3  http://jupiter.geus.dk/Rapportdb/Grundvandsrap...   \n",
       "4  http://jupiter.geus.dk/Rapportdb/Grundvandsrap...   \n",
       "\n",
       "                                            geometry  \n",
       "0  (POLYGON ((533118.99658534 6115989.99792342, 5...  \n",
       "1  (POLYGON ((535928.18558342 6116449.18215799, 5...  \n",
       "2  (POLYGON ((582344.60979557 6360821.37795918, 5...  \n",
       "3  (POLYGON ((565979.84052407 6351844.48030166, 5...  \n",
       "4  (POLYGON ((563311.9635688 6349444.93872141, 56...  "
      ]
     },
     "execution_count": 11,
     "metadata": {},
     "output_type": "execute_result"
    }
   ],
   "source": [
    "data.head()"
   ]
  },
  {
   "cell_type": "code",
   "execution_count": 12,
   "metadata": {},
   "outputs": [
    {
     "data": {
      "text/plain": [
       "<matplotlib.axes._subplots.AxesSubplot at 0x2861c7f1518>"
      ]
     },
     "execution_count": 12,
     "metadata": {},
     "output_type": "execute_result"
    },
    {
     "data": {
      "image/png": "[encoded data removed]",
      "text/plain": [
       "<Figure size 432x288 with 1 Axes>"
      ]
     },
     "metadata": {
      "needs_background": "light"
     },
     "output_type": "display_data"
    }
   ],
   "source": [
    "data.plot(color = 'white', edgecolor = 'blue')"
   ]
  },
  {
   "cell_type": "code",
   "execution_count": 13,
   "metadata": {},
   "outputs": [
    {
     "data": {
      "text/html": [
       "<div>\n",
       "<style scoped>\n",
       "    .dataframe tbody tr th:only-of-type {\n",
       "        vertical-align: middle;\n",
       "    }\n",
       "\n",
       "    .dataframe tbody tr th {\n",
       "        vertical-align: top;\n",
       "    }\n",
       "\n",
       "    .dataframe thead th {\n",
       "        text-align: right;\n",
       "    }\n",
       "</style>\n",
       "<table border=\"1\" class=\"dataframe\">\n",
       "  <thead>\n",
       "    <tr style=\"text-align: right;\">\n",
       "      <th></th>\n",
       "      <th>f06</th>\n",
       "      <th>afdnr</th>\n",
       "      <th>recordkey</th>\n",
       "      <th>ekomnr</th>\n",
       "      <th>f101</th>\n",
       "      <th>f201</th>\n",
       "      <th>bygningnoegle</th>\n",
       "      <th>geox</th>\n",
       "      <th>geoy</th>\n",
       "      <th>_merge</th>\n",
       "      <th>impute_geox</th>\n",
       "      <th>impute_geoy</th>\n",
       "      <th>impute</th>\n",
       "      <th>geometry</th>\n",
       "    </tr>\n",
       "  </thead>\n",
       "  <tbody>\n",
       "    <tr>\n",
       "      <td>0</td>\n",
       "      <td>1</td>\n",
       "      <td>1</td>\n",
       "      <td>R1377C3F29FD15CBBC1256CD7005A566A</td>\n",
       "      <td>510.0</td>\n",
       "      <td>20997.0</td>\n",
       "      <td>3.0</td>\n",
       "      <td>92e12c55-0607-4147-a93d-0754ac30d1c1</td>\n",
       "      <td>519065.09</td>\n",
       "      <td>6122281.5</td>\n",
       "      <td>matched (3)</td>\n",
       "      <td>519065.09</td>\n",
       "      <td>6122281.5</td>\n",
       "      <td>0</td>\n",
       "      <td>POINT (519065.09 6122281.5)</td>\n",
       "    </tr>\n",
       "    <tr>\n",
       "      <td>1</td>\n",
       "      <td>1</td>\n",
       "      <td>1</td>\n",
       "      <td>R1377C3F29FD15CBBC1256CD7005A566A</td>\n",
       "      <td>510.0</td>\n",
       "      <td>20997.0</td>\n",
       "      <td>10.0</td>\n",
       "      <td>80e09353-05ea-4629-9e82-a46385787b92</td>\n",
       "      <td>519065.09</td>\n",
       "      <td>6122281.5</td>\n",
       "      <td>matched (3)</td>\n",
       "      <td>519065.09</td>\n",
       "      <td>6122281.5</td>\n",
       "      <td>0</td>\n",
       "      <td>POINT (519065.09 6122281.5)</td>\n",
       "    </tr>\n",
       "    <tr>\n",
       "      <td>2</td>\n",
       "      <td>1</td>\n",
       "      <td>1</td>\n",
       "      <td>R1377C3F29FD15CBBC1256CD7005A566A</td>\n",
       "      <td>510.0</td>\n",
       "      <td>20997.0</td>\n",
       "      <td>12.0</td>\n",
       "      <td>1464793f-8169-4215-822d-a33d4f98ab09</td>\n",
       "      <td>519065.09</td>\n",
       "      <td>6122281.5</td>\n",
       "      <td>matched (3)</td>\n",
       "      <td>519065.09</td>\n",
       "      <td>6122281.5</td>\n",
       "      <td>0</td>\n",
       "      <td>POINT (519065.09 6122281.5)</td>\n",
       "    </tr>\n",
       "    <tr>\n",
       "      <td>3</td>\n",
       "      <td>1</td>\n",
       "      <td>1</td>\n",
       "      <td>R1377C3F29FD15CBBC1256CD7005A566A</td>\n",
       "      <td>510.0</td>\n",
       "      <td>20997.0</td>\n",
       "      <td>4.0</td>\n",
       "      <td>8c09197a-2d01-448b-998a-1fcf78c78bc4</td>\n",
       "      <td>519065.09</td>\n",
       "      <td>6122281.5</td>\n",
       "      <td>matched (3)</td>\n",
       "      <td>519065.09</td>\n",
       "      <td>6122281.5</td>\n",
       "      <td>0</td>\n",
       "      <td>POINT (519065.09 6122281.5)</td>\n",
       "    </tr>\n",
       "    <tr>\n",
       "      <td>4</td>\n",
       "      <td>1</td>\n",
       "      <td>1</td>\n",
       "      <td>R1377C3F29FD15CBBC1256CD7005A566A</td>\n",
       "      <td>510.0</td>\n",
       "      <td>20997.0</td>\n",
       "      <td>6.0</td>\n",
       "      <td>e502394a-5ce7-4242-ba5e-79dd1a61ab1d</td>\n",
       "      <td>519065.09</td>\n",
       "      <td>6122281.5</td>\n",
       "      <td>matched (3)</td>\n",
       "      <td>519065.09</td>\n",
       "      <td>6122281.5</td>\n",
       "      <td>0</td>\n",
       "      <td>POINT (519065.09 6122281.5)</td>\n",
       "    </tr>\n",
       "  </tbody>\n",
       "</table>\n",
       "</div>"
      ],
      "text/plain": [
       "   f06  afdnr                          recordkey  ekomnr     f101  f201  \\\n",
       "0    1      1  R1377C3F29FD15CBBC1256CD7005A566A   510.0  20997.0   3.0   \n",
       "1    1      1  R1377C3F29FD15CBBC1256CD7005A566A   510.0  20997.0  10.0   \n",
       "2    1      1  R1377C3F29FD15CBBC1256CD7005A566A   510.0  20997.0  12.0   \n",
       "3    1      1  R1377C3F29FD15CBBC1256CD7005A566A   510.0  20997.0   4.0   \n",
       "4    1      1  R1377C3F29FD15CBBC1256CD7005A566A   510.0  20997.0   6.0   \n",
       "\n",
       "                          bygningnoegle       geox       geoy       _merge  \\\n",
       "0  92e12c55-0607-4147-a93d-0754ac30d1c1  519065.09  6122281.5  matched (3)   \n",
       "1  80e09353-05ea-4629-9e82-a46385787b92  519065.09  6122281.5  matched (3)   \n",
       "2  1464793f-8169-4215-822d-a33d4f98ab09  519065.09  6122281.5  matched (3)   \n",
       "3  8c09197a-2d01-448b-998a-1fcf78c78bc4  519065.09  6122281.5  matched (3)   \n",
       "4  e502394a-5ce7-4242-ba5e-79dd1a61ab1d  519065.09  6122281.5  matched (3)   \n",
       "\n",
       "   impute_geox  impute_geoy  impute                     geometry  \n",
       "0    519065.09    6122281.5       0  POINT (519065.09 6122281.5)  \n",
       "1    519065.09    6122281.5       0  POINT (519065.09 6122281.5)  \n",
       "2    519065.09    6122281.5       0  POINT (519065.09 6122281.5)  \n",
       "3    519065.09    6122281.5       0  POINT (519065.09 6122281.5)  \n",
       "4    519065.09    6122281.5       0  POINT (519065.09 6122281.5)  "
      ]
     },
     "execution_count": 13,
     "metadata": {},
     "output_type": "execute_result"
    }
   ],
   "source": [
    "#make geometry points\n",
    "bygninger2 = gpd.GeoDataFrame(bygninger, geometry = gpd.points_from_xy(bygninger.geox, bygninger.geoy))\n",
    "bygninger2.head()"
   ]
  },
  {
   "cell_type": "code",
   "execution_count": 14,
   "metadata": {},
   "outputs": [
    {
     "data": {
      "text/html": [
       "<div>\n",
       "<style scoped>\n",
       "    .dataframe tbody tr th:only-of-type {\n",
       "        vertical-align: middle;\n",
       "    }\n",
       "\n",
       "    .dataframe tbody tr th {\n",
       "        vertical-align: top;\n",
       "    }\n",
       "\n",
       "    .dataframe thead th {\n",
       "        text-align: right;\n",
       "    }\n",
       "</style>\n",
       "<table border=\"1\" class=\"dataframe\">\n",
       "  <thead>\n",
       "    <tr style=\"text-align: right;\">\n",
       "      <th></th>\n",
       "      <th>geometry</th>\n",
       "    </tr>\n",
       "  </thead>\n",
       "  <tbody>\n",
       "    <tr>\n",
       "      <td>0</td>\n",
       "      <td>(POLYGON ((533118.99658534 6115989.99792342, 5...</td>\n",
       "    </tr>\n",
       "    <tr>\n",
       "      <td>1</td>\n",
       "      <td>(POLYGON ((535928.18558342 6116449.18215799, 5...</td>\n",
       "    </tr>\n",
       "    <tr>\n",
       "      <td>2</td>\n",
       "      <td>(POLYGON ((582344.60979557 6360821.37795918, 5...</td>\n",
       "    </tr>\n",
       "    <tr>\n",
       "      <td>3</td>\n",
       "      <td>(POLYGON ((565979.84052407 6351844.48030166, 5...</td>\n",
       "    </tr>\n",
       "    <tr>\n",
       "      <td>4</td>\n",
       "      <td>(POLYGON ((563311.9635688 6349444.93872141, 56...</td>\n",
       "    </tr>\n",
       "  </tbody>\n",
       "</table>\n",
       "</div>"
      ],
      "text/plain": [
       "                                            geometry\n",
       "0  (POLYGON ((533118.99658534 6115989.99792342, 5...\n",
       "1  (POLYGON ((535928.18558342 6116449.18215799, 5...\n",
       "2  (POLYGON ((582344.60979557 6360821.37795918, 5...\n",
       "3  (POLYGON ((565979.84052407 6351844.48030166, 5...\n",
       "4  (POLYGON ((563311.9635688 6349444.93872141, 56..."
      ]
     },
     "execution_count": 14,
     "metadata": {},
     "output_type": "execute_result"
    }
   ],
   "source": [
    "#Vælg kun polygon data:\n",
    "data3 = data.loc[:, ['geometry']]\n",
    "data3.head()"
   ]
  },
  {
   "cell_type": "code",
   "execution_count": 15,
   "metadata": {},
   "outputs": [
    {
     "data": {
      "text/html": [
       "<div>\n",
       "<style scoped>\n",
       "    .dataframe tbody tr th:only-of-type {\n",
       "        vertical-align: middle;\n",
       "    }\n",
       "\n",
       "    .dataframe tbody tr th {\n",
       "        vertical-align: top;\n",
       "    }\n",
       "\n",
       "    .dataframe thead th {\n",
       "        text-align: right;\n",
       "    }\n",
       "</style>\n",
       "<table border=\"1\" class=\"dataframe\">\n",
       "  <thead>\n",
       "    <tr style=\"text-align: right;\">\n",
       "      <th></th>\n",
       "      <th>geometry</th>\n",
       "    </tr>\n",
       "  </thead>\n",
       "  <tbody>\n",
       "    <tr>\n",
       "      <td>0</td>\n",
       "      <td>POINT (519065.09 6122281.5)</td>\n",
       "    </tr>\n",
       "    <tr>\n",
       "      <td>1</td>\n",
       "      <td>POINT (519065.09 6122281.5)</td>\n",
       "    </tr>\n",
       "    <tr>\n",
       "      <td>2</td>\n",
       "      <td>POINT (519065.09 6122281.5)</td>\n",
       "    </tr>\n",
       "    <tr>\n",
       "      <td>3</td>\n",
       "      <td>POINT (519065.09 6122281.5)</td>\n",
       "    </tr>\n",
       "    <tr>\n",
       "      <td>4</td>\n",
       "      <td>POINT (519065.09 6122281.5)</td>\n",
       "    </tr>\n",
       "  </tbody>\n",
       "</table>\n",
       "</div>"
      ],
      "text/plain": [
       "                      geometry\n",
       "0  POINT (519065.09 6122281.5)\n",
       "1  POINT (519065.09 6122281.5)\n",
       "2  POINT (519065.09 6122281.5)\n",
       "3  POINT (519065.09 6122281.5)\n",
       "4  POINT (519065.09 6122281.5)"
      ]
     },
     "execution_count": 15,
     "metadata": {},
     "output_type": "execute_result"
    }
   ],
   "source": [
    "#Vælg kun point data:\n",
    "bygninger3 = bygninger2.loc[:, ['geometry']]\n",
    "bygninger3.head()"
   ]
  },
  {
   "cell_type": "code",
   "execution_count": 16,
   "metadata": {},
   "outputs": [
    {
     "data": {
      "text/plain": [
       "0        POINT (519065.09 6122281.5)\n",
       "1        POINT (519065.09 6122281.5)\n",
       "2        POINT (519065.09 6122281.5)\n",
       "3        POINT (519065.09 6122281.5)\n",
       "4        POINT (519065.09 6122281.5)\n",
       "                    ...             \n",
       "87150         POINT (562311 6259137)\n",
       "87151         POINT (562311 6259137)\n",
       "87152         POINT (562311 6259137)\n",
       "87153         POINT (562311 6259137)\n",
       "87167      POINT (597508.63 6079280)\n",
       "Name: geometry, Length: 78598, dtype: object"
      ]
     },
     "execution_count": 16,
     "metadata": {},
     "output_type": "execute_result"
    }
   ],
   "source": [
    "bygninger3.geometry"
   ]
  },
  {
   "cell_type": "code",
   "execution_count": 17,
   "metadata": {},
   "outputs": [
    {
     "name": "stderr",
     "output_type": "stream",
     "text": [
      "100%|███████████████████████████████████████████████████████████████████████████| 78598/78598 [03:43<00:00, 352.08it/s]\n"
     ]
    }
   ],
   "source": [
    "import tqdm\n",
    "i = -1\n",
    "check_list = [0]*len(bygninger3)\n",
    "\n",
    "for pt in tqdm.tqdm(bygninger3.geometry):\n",
    "    i = i+1\n",
    "    point = pt\n",
    "    for poly in data3.geometry:\n",
    "        polygon = poly\n",
    "        if polygon.contains(point):\n",
    "            check_list[i] = 1\n",
    "        else: \n",
    "            pass"
   ]
  },
  {
   "cell_type": "code",
   "execution_count": 18,
   "metadata": {},
   "outputs": [
    {
     "name": "stdout",
     "output_type": "stream",
     "text": [
      "4713\n"
     ]
    }
   ],
   "source": [
    "print(sum(check_list))"
   ]
  },
  {
   "cell_type": "code",
   "execution_count": 116,
   "metadata": {},
   "outputs": [
    {
     "name": "stdout",
     "output_type": "stream",
     "text": [
      "                          geometry  check\n",
      "0      POINT (519065.09 6122281.5)      0\n",
      "1      POINT (519065.09 6122281.5)      0\n",
      "2      POINT (519065.09 6122281.5)      0\n",
      "3      POINT (519065.09 6122281.5)      0\n",
      "4      POINT (519065.09 6122281.5)      0\n",
      "...                            ...    ...\n",
      "87150       POINT (562311 6259137)      0\n",
      "87151       POINT (562311 6259137)      0\n",
      "87152       POINT (562311 6259137)      0\n",
      "87153       POINT (562311 6259137)      0\n",
      "87167    POINT (597508.63 6079280)      0\n",
      "\n",
      "[78598 rows x 2 columns]\n"
     ]
    }
   ],
   "source": [
    "bygninger3['check'] = check_list\n",
    "print(bygninger3)"
   ]
  },
  {
   "cell_type": "code",
   "execution_count": 118,
   "metadata": {},
   "outputs": [],
   "source": [
    "bygninger3.to_excel('RegnMM.xlsx')"
   ]
  },
  {
   "cell_type": "code",
   "execution_count": 24,
   "metadata": {},
   "outputs": [
    {
     "data": {
      "text/html": [
       "<div>\n",
       "<style scoped>\n",
       "    .dataframe tbody tr th:only-of-type {\n",
       "        vertical-align: middle;\n",
       "    }\n",
       "\n",
       "    .dataframe tbody tr th {\n",
       "        vertical-align: top;\n",
       "    }\n",
       "\n",
       "    .dataframe thead th {\n",
       "        text-align: right;\n",
       "    }\n",
       "</style>\n",
       "<table border=\"1\" class=\"dataframe\">\n",
       "  <thead>\n",
       "    <tr style=\"text-align: right;\">\n",
       "      <th></th>\n",
       "      <th>geometry</th>\n",
       "      <th>index_right</th>\n",
       "    </tr>\n",
       "  </thead>\n",
       "  <tbody>\n",
       "    <tr>\n",
       "      <td>0</td>\n",
       "      <td>(POLYGON ((533118.99658534 6115989.99792342, 5...</td>\n",
       "      <td>6147</td>\n",
       "    </tr>\n",
       "    <tr>\n",
       "      <td>0</td>\n",
       "      <td>(POLYGON ((533118.99658534 6115989.99792342, 5...</td>\n",
       "      <td>6139</td>\n",
       "    </tr>\n",
       "    <tr>\n",
       "      <td>0</td>\n",
       "      <td>(POLYGON ((533118.99658534 6115989.99792342, 5...</td>\n",
       "      <td>6133</td>\n",
       "    </tr>\n",
       "    <tr>\n",
       "      <td>0</td>\n",
       "      <td>(POLYGON ((533118.99658534 6115989.99792342, 5...</td>\n",
       "      <td>6134</td>\n",
       "    </tr>\n",
       "    <tr>\n",
       "      <td>0</td>\n",
       "      <td>(POLYGON ((533118.99658534 6115989.99792342, 5...</td>\n",
       "      <td>6137</td>\n",
       "    </tr>\n",
       "    <tr>\n",
       "      <td>...</td>\n",
       "      <td>...</td>\n",
       "      <td>...</td>\n",
       "    </tr>\n",
       "    <tr>\n",
       "      <td>707</td>\n",
       "      <td>(POLYGON ((606063.3926429 6113500.00475431, 60...</td>\n",
       "      <td>81905</td>\n",
       "    </tr>\n",
       "    <tr>\n",
       "      <td>707</td>\n",
       "      <td>(POLYGON ((606063.3926429 6113500.00475431, 60...</td>\n",
       "      <td>81942</td>\n",
       "    </tr>\n",
       "    <tr>\n",
       "      <td>707</td>\n",
       "      <td>(POLYGON ((606063.3926429 6113500.00475431, 60...</td>\n",
       "      <td>81925</td>\n",
       "    </tr>\n",
       "    <tr>\n",
       "      <td>707</td>\n",
       "      <td>(POLYGON ((606063.3926429 6113500.00475431, 60...</td>\n",
       "      <td>81947</td>\n",
       "    </tr>\n",
       "    <tr>\n",
       "      <td>707</td>\n",
       "      <td>(POLYGON ((606063.3926429 6113500.00475431, 60...</td>\n",
       "      <td>81952</td>\n",
       "    </tr>\n",
       "  </tbody>\n",
       "</table>\n",
       "<p>5487 rows × 2 columns</p>\n",
       "</div>"
      ],
      "text/plain": [
       "                                              geometry  index_right\n",
       "0    (POLYGON ((533118.99658534 6115989.99792342, 5...         6147\n",
       "0    (POLYGON ((533118.99658534 6115989.99792342, 5...         6139\n",
       "0    (POLYGON ((533118.99658534 6115989.99792342, 5...         6133\n",
       "0    (POLYGON ((533118.99658534 6115989.99792342, 5...         6134\n",
       "0    (POLYGON ((533118.99658534 6115989.99792342, 5...         6137\n",
       "..                                                 ...          ...\n",
       "707  (POLYGON ((606063.3926429 6113500.00475431, 60...        81905\n",
       "707  (POLYGON ((606063.3926429 6113500.00475431, 60...        81942\n",
       "707  (POLYGON ((606063.3926429 6113500.00475431, 60...        81925\n",
       "707  (POLYGON ((606063.3926429 6113500.00475431, 60...        81947\n",
       "707  (POLYGON ((606063.3926429 6113500.00475431, 60...        81952\n",
       "\n",
       "[5487 rows x 2 columns]"
      ]
     },
     "execution_count": 24,
     "metadata": {},
     "output_type": "execute_result"
    }
   ],
   "source": [
    "#test af spatial join - mere efficient end ovenstående\n",
    "\n",
    "#Giver det samme, men idet der er overlappende polygoner, hvor nogle punkter befinder sig i mere end ét polygon, får vi en\n",
    "#længere dataframe end ovenfor. Ser vi på unikke index_right værdier ser vi dog, at antal unikke værdier er det samme\n",
    "#som ovenfor\n",
    "\n",
    "#Trying with \"spatial join\"\n",
    "#buildings_in_areas = gpd.sjoin(data3, bygninger3, how=\"inner\", op='intersects')\n",
    "#buildings_in_areas"
   ]
  },
  {
   "cell_type": "code",
   "execution_count": 28,
   "metadata": {},
   "outputs": [
    {
     "data": {
      "text/plain": [
       "4713"
      ]
     },
     "execution_count": 28,
     "metadata": {},
     "output_type": "execute_result"
    }
   ],
   "source": [
    "len(np.unique(buildings_in_areas['index_right']))"
   ]
  }
 ],
 "metadata": {
  "kernelspec": {
   "display_name": "Python 3",
   "language": "python",
   "name": "python3"
  },
  "language_info": {
   "codemirror_mode": {
    "name": "ipython",
    "version": 3
   },
   "file_extension": ".py",
   "mimetype": "text/x-python",
   "name": "python",
   "nbconvert_exporter": "python",
   "pygments_lexer": "ipython3",
   "version": "3.7.3"
  }
 },
 "nbformat": 4,
 "nbformat_minor": 4
}
